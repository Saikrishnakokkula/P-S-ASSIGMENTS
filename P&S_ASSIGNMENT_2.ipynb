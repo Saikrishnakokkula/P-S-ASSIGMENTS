{
  "nbformat": 4,
  "nbformat_minor": 0,
  "metadata": {
    "colab": {
      "provenance": [],
      "authorship_tag": "ABX9TyOsY+qKziNaKibFN2j3JP/5",
      "include_colab_link": true
    },
    "kernelspec": {
      "name": "python3",
      "display_name": "Python 3"
    },
    "language_info": {
      "name": "python"
    }
  },
  "cells": [
    {
      "cell_type": "markdown",
      "metadata": {
        "id": "view-in-github",
        "colab_type": "text"
      },
      "source": [
        "<a href=\"https://colab.research.google.com/github/Saikrishnakokkula/P-S-ASSIGMENTS/blob/main/P%26S_ASSIGNMENT_2.ipynb\" target=\"_parent\"><img src=\"https://colab.research.google.com/assets/colab-badge.svg\" alt=\"Open In Colab\"/></a>"
      ]
    },
    {
      "cell_type": "code",
      "source": [
        "# question 1\n",
        "import numpy as np\n",
        "ages = np.array([10, 12, 15, 11, 13, 21])\n",
        "frequencies = np.array([1, 4, 7, 9, 4, 3])\n",
        "total_sum = np.sum(ages * frequencies)\n",
        "total_frequency = np.sum(frequencies)\n",
        "mean_age = total_sum / total_frequency\n",
        "\n",
        "print(f\"The mean age of the participants is: {mean_age:.2f}\")\n"
      ],
      "metadata": {
        "colab": {
          "base_uri": "https://localhost:8080/"
        },
        "id": "F6GA2LocTwvN",
        "outputId": "87a554a9-2473-4e25-f478-c4470f7db8fb"
      },
      "execution_count": null,
      "outputs": [
        {
          "output_type": "stream",
          "name": "stdout",
          "text": [
            "The mean age of the participants is: 13.46\n"
          ]
        }
      ]
    },
    {
      "cell_type": "code",
      "source": [
        "#question 2\n",
        "\n",
        "class_intervals = [(0, 10), (10, 20), (20, 30), (30, 40), (40, 50), (50, 60)]\n",
        "frequencies = [1, 8, 7, 8, 7, 6]\n",
        "\n",
        "midpoints = [(interval[0] + interval[1]) / 2 for interval in class_intervals]\n",
        "\n",
        "\n",
        "sum_fx = 0\n",
        "total_frequency = 0\n",
        "\n",
        "for i in range(len(frequencies)):\n",
        "    sum_fx += frequencies[i] * midpoints[i]\n",
        "    total_frequency += frequencies[i]\n",
        "\n",
        "mean = sum_fx / total_frequency\n",
        "\n",
        "print(f\"The mean of the frequency distribution is: {mean}\")\n"
      ],
      "metadata": {
        "colab": {
          "base_uri": "https://localhost:8080/"
        },
        "id": "Xv0ojln_YR7_",
        "outputId": "c22dc6df-2973-4c6f-8adb-e30fe0656e17"
      },
      "execution_count": null,
      "outputs": [
        {
          "output_type": "stream",
          "name": "stdout",
          "text": [
            "The mean of the frequency distribution is: 33.108108108108105\n"
          ]
        }
      ]
    },
    {
      "cell_type": "code",
      "source": [
        "\n",
        "# question 3\n",
        "data = [13, 22, 25, 25, 14, 23, 31]\n",
        "\n",
        "mean = sum(data) / len(data)\n",
        "\n",
        "variance = sum((x - mean) ** 2 for x in data) / len(data)\n",
        "\n",
        "print(f\"The mean of the dataset is: {mean}\")\n",
        "print(f\"The variance of the dataset is: {variance}\")\n"
      ],
      "metadata": {
        "colab": {
          "base_uri": "https://localhost:8080/"
        },
        "id": "VyvIx5oqdhUM",
        "outputId": "58c00506-d6b4-44b4-93e0-51553a683efa"
      },
      "execution_count": null,
      "outputs": [
        {
          "output_type": "stream",
          "name": "stdout",
          "text": [
            "The mean of the dataset is: 21.857142857142858\n",
            "The variance of the dataset is: 34.97959183673469\n"
          ]
        }
      ]
    }
  ]
}