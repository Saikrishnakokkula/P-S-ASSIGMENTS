{
  "nbformat": 4,
  "nbformat_minor": 0,
  "metadata": {
    "colab": {
      "provenance": [],
      "authorship_tag": "ABX9TyP0cS/+IlYGsgEkM4+Cm63H",
      "include_colab_link": true
    },
    "kernelspec": {
      "name": "python3",
      "display_name": "Python 3"
    },
    "language_info": {
      "name": "python"
    }
  },
  "cells": [
    {
      "cell_type": "markdown",
      "metadata": {
        "id": "view-in-github",
        "colab_type": "text"
      },
      "source": [
        "<a href=\"https://colab.research.google.com/github/Saikrishnakokkula/P-S-ASSIGMENTS/blob/main/P%26S_ASSIGNMENT_1.ipynb\" target=\"_parent\"><img src=\"https://colab.research.google.com/assets/colab-badge.svg\" alt=\"Open In Colab\"/></a>"
      ]
    },
    {
      "cell_type": "code",
      "execution_count": null,
      "metadata": {
        "colab": {
          "base_uri": "https://localhost:8080/"
        },
        "id": "kWwKpqR-OTmQ",
        "outputId": "a472e3a0-b917-4b86-811b-712018903d26"
      },
      "outputs": [
        {
          "output_type": "stream",
          "name": "stdout",
          "text": [
            "Value | Frequency | Relative Frequency | Percentage Frequency\n",
            "----------------------------------------------------------\n",
            "   13 |         2 |             0.080 |                  8.0%\n",
            "   14 |         4 |             0.160 |                 16.0%\n",
            "   15 |         5 |             0.200 |                 20.0%\n",
            "   16 |         8 |             0.320 |                 32.0%\n",
            "   17 |         6 |             0.240 |                 24.0%\n",
            "\n",
            "Discrete Frequency Distribution: [{'Value': 13, 'Frequency': 2}, {'Value': 14, 'Frequency': 4}, {'Value': 15, 'Frequency': 5}, {'Value': 16, 'Frequency': 8}, {'Value': 17, 'Frequency': 6}]\n",
            "Relative Frequency Distribution: [{'Value': 13, 'Relative Frequency': 0.08}, {'Value': 14, 'Relative Frequency': 0.16}, {'Value': 15, 'Relative Frequency': 0.2}, {'Value': 16, 'Relative Frequency': 0.32}, {'Value': 17, 'Relative Frequency': 0.24}]\n",
            "Percentage Frequency Distribution: [{'Value': 13, 'Percentage Frequency': 8.0}, {'Value': 14, 'Percentage Frequency': 16.0}, {'Value': 15, 'Percentage Frequency': 20.0}, {'Value': 16, 'Percentage Frequency': 32.0}, {'Value': 17, 'Percentage Frequency': 24.0}]\n"
          ]
        }
      ],
      "source": [
        "data = [15, 13, 16, 16, 15, 16, 17, 14, 15, 16, 16, 17, 14, 17, 17, 16, 14, 15, 16, 17, 14, 16, 15, 17, 13]\n",
        "\n",
        "# Frequency Distribution\n",
        "frequency = {value: data.count(value) for value in set(data)}\n",
        "\n",
        "# Total Number of Observations\n",
        "total_observations = len(data)\n",
        "\n",
        "# Relative and Percentage Frequency\n",
        "relative_frequency = {value: freq / total_observations for value, freq in frequency.items()}\n",
        "percentage_frequency = {value: rel_freq * 100 for value, rel_freq in relative_frequency.items()}\n",
        "\n",
        "# Display Frequency Distribution Table\n",
        "print(\"Value | Frequency | Relative Frequency | Percentage Frequency\")\n",
        "print(\"----------------------------------------------------------\")\n",
        "for value in sorted(frequency):\n",
        "    print(f\"{value:5} | {frequency[value]:9} | {relative_frequency[value]:17.3f} | {percentage_frequency[value]:20.1f}%\")\n",
        "\n",
        "# Output as Lists\n",
        "frequency_list = [{\"Value\": value, \"Frequency\": frequency[value]} for value in sorted(frequency)]\n",
        "relative_frequency_list = [{\"Value\": value, \"Relative Frequency\": relative_frequency[value]} for value in sorted(frequency)]\n",
        "percentage_frequency_list = [{\"Value\": value, \"Percentage Frequency\": percentage_frequency[value]} for value in sorted(frequency)]\n",
        "\n",
        "print(\"\\nDiscrete Frequency Distribution:\", frequency_list)\n",
        "print(\"Relative Frequency Distribution:\", relative_frequency_list)\n",
        "print(\"Percentage Frequency Distribution:\", percentage_frequency_list)\n"
      ]
    }
  ]
}